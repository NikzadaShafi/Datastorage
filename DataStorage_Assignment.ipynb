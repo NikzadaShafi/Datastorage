{
 "cells": [
  {
   "cell_type": "markdown",
   "metadata": {},
   "source": [
    "# DataStorage Assignment\n",
    "#### Mohammad Shafi Nikzada - 3754101\n",
    "#### Nils Jesper Cornelius - 3754102"
   ]
  },
  {
   "cell_type": "markdown",
   "metadata": {},
   "source": [
    "### Link to GitHub\n",
    "https://github.com/NikzadaShafi/Datastorage/blob/main/API_Kaggle_and_DataStorage.ipynb"
   ]
  },
  {
   "cell_type": "markdown",
   "metadata": {},
   "source": [
    "## Kaggle API and Downloading the data"
   ]
  },
  {
   "cell_type": "code",
   "execution_count": 55,
   "metadata": {
    "id": "lshKDQuLmIUl"
   },
   "outputs": [],
   "source": [
    "import pandas as pd\n",
    "import opendatasets as od\n",
    "import psycopg2"
   ]
  },
  {
   "cell_type": "code",
   "execution_count": 56,
   "metadata": {},
   "outputs": [
    {
     "name": "stdout",
     "output_type": "stream",
     "text": [
      "Skipping, found downloaded files in \".\\airbnb-property-data-from-texas\" (use force=True to force download)\n"
     ]
    }
   ],
   "source": [
    "# Airbnb-property-data-from-texas\n",
    "od.download(\"https://www.kaggle.com/datasets/PromptCloudHQ/airbnb-property-data-from-texas\")"
   ]
  },
  {
   "cell_type": "code",
   "execution_count": 57,
   "metadata": {
    "colab": {
     "base_uri": "https://localhost:8080/"
    },
    "id": "c3q-EH2jmODe",
    "outputId": "d1ddcd5c-3c6d-4eed-97a4-a815e84ec8f1"
   },
   "outputs": [
    {
     "name": "stdout",
     "output_type": "stream",
     "text": [
      "(18259, 9)\n"
     ]
    }
   ],
   "source": [
    "# The data is in CSV format, read the data using pandas library\n",
    "data = pd.read_csv('airbnb-property-data-from-texas/Airbnb_Texas_Rentals.csv')\n",
    "data = data.drop(data.columns[[0]], axis=1)\n",
    "print(data.shape)"
   ]
  },
  {
   "cell_type": "code",
   "execution_count": null,
   "metadata": {
    "colab": {
     "base_uri": "https://localhost:8080/",
     "height": 1000
    },
    "id": "bvqt6XvkmoGA",
    "outputId": "2a484f44-0f59-46a1-ce7f-3ba17dda5072"
   },
   "outputs": [],
   "source": [
    "# Visualize some rows of the data\n",
    "data.head(2)"
   ]
  },
  {
   "cell_type": "markdown",
   "metadata": {},
   "source": [
    "### How our data should be inserted to PostgreSQL?"
   ]
  },
  {
   "cell_type": "code",
   "execution_count": 58,
   "metadata": {},
   "outputs": [],
   "source": [
    "#     average_rate_per_night          varchar, \n",
    "#     bedrooms_count                  varchar,\n",
    "#     city                            varchar,\n",
    "#     date_of_listing                 varchar,\n",
    "#     description                     varchar,\n",
    "#     latitude                        float,\n",
    "#     longitude                       float,\n",
    "#     title                           varchar\n",
    "#     url                             varchar "
   ]
  },
  {
   "cell_type": "code",
   "execution_count": 59,
   "metadata": {},
   "outputs": [
    {
     "data": {
      "text/plain": [
       "average_rate_per_night     object\n",
       "bedrooms_count             object\n",
       "city                       object\n",
       "date_of_listing            object\n",
       "description                object\n",
       "latitude                  float64\n",
       "longitude                 float64\n",
       "title                      object\n",
       "url                        object\n",
       "dtype: object"
      ]
     },
     "execution_count": 59,
     "metadata": {},
     "output_type": "execute_result"
    }
   ],
   "source": [
    "# Types of data that we have in our CSV file\n",
    "data.dtypes"
   ]
  },
  {
   "cell_type": "code",
   "execution_count": 60,
   "metadata": {},
   "outputs": [],
   "source": [
    "# In order to insert the data to PostgreSQL we have to adapt this format\n",
    "replacements = {\n",
    "    'object': 'varchar',\n",
    "    'float64': 'float'\n",
    "}"
   ]
  },
  {
   "cell_type": "markdown",
   "metadata": {},
   "source": [
    "# -----------------------------------------      New Section    --------------------------------------------\n"
   ]
  },
  {
   "cell_type": "markdown",
   "metadata": {},
   "source": [
    "# Working with PostgreSQL and establishing connection"
   ]
  },
  {
   "cell_type": "code",
   "execution_count": 61,
   "metadata": {},
   "outputs": [],
   "source": [
    "# Uncomment if you need to install the library\n",
    "#!pip install psycopg2"
   ]
  },
  {
   "cell_type": "code",
   "execution_count": 62,
   "metadata": {},
   "outputs": [
    {
     "name": "stdout",
     "output_type": "stream",
     "text": [
      "sucessfull connection\n"
     ]
    }
   ],
   "source": [
    "# Forming the connection to PostgreSQL\n",
    "conn = psycopg2.connect(\n",
    "    database=\"DataStorage\",\n",
    "    user=\"postgres\",\n",
    "    password=\"341741\",\n",
    "    host=\"localhost\",\n",
    "    port = \"5433\"\n",
    "    )\n",
    "\n",
    "cursor = conn.cursor()\n",
    "print(\"sucessfull connection\")"
   ]
  },
  {
   "cell_type": "code",
   "execution_count": 63,
   "metadata": {},
   "outputs": [],
   "source": [
    "# Deletes the table if it already exists\n",
    "cursor.execute(\"drop table if exists airbnb_texas_rentals;\")"
   ]
  },
  {
   "cell_type": "code",
   "execution_count": 64,
   "metadata": {},
   "outputs": [],
   "source": [
    "# Create the table with columns\n",
    "cursor.execute(\"create table airbnb_texas_rentals \\\n",
    "(average_rate_per_night varchar, bedrooms_count varchar, city varchar, date_of_listing varchar, \\\n",
    "description varchar, latitude float, longitude float, title varchar, url varchar)\")\n",
    "conn.commit()"
   ]
  },
  {
   "cell_type": "code",
   "execution_count": 65,
   "metadata": {},
   "outputs": [],
   "source": [
    "# Create .CSV from dataframe\n",
    "data.to_csv('airbnb_texas_rentals.csv', header=data.columns, index=False, encoding='utf-8')\n",
    "my_file = open('airbnb_texas_rentals.csv', 'r', encoding='utf-8')\n"
   ]
  },
  {
   "cell_type": "code",
   "execution_count": 66,
   "metadata": {},
   "outputs": [
    {
     "name": "stdout",
     "output_type": "stream",
     "text": [
      "file copied to db\n"
     ]
    }
   ],
   "source": [
    "# Inserting the file to db\n",
    "SQL_STATEMENT = \"\"\"\n",
    "COPY airbnb_texas_rentals FROM STDIN WITH\n",
    "    CSV\n",
    "    HEADER\n",
    "    DELIMITER AS ','\n",
    "\"\"\"\n",
    "cursor.copy_expert(sql=SQL_STATEMENT, file=my_file)\n",
    "print(\"file copied to db\")"
   ]
  },
  {
   "cell_type": "code",
   "execution_count": 67,
   "metadata": {},
   "outputs": [
    {
     "name": "stdout",
     "output_type": "stream",
     "text": [
      "table airbnb_texas_rentals imported to db\n"
     ]
    }
   ],
   "source": [
    "cursor.execute(\"grant select on table airbnb_texas_rentals to public\")\n",
    "conn.commit()\n",
    "\n",
    "print('table airbnb_texas_rentals imported to db')"
   ]
  },
  {
   "cell_type": "markdown",
   "metadata": {},
   "source": [
    "# Using some SQL query to explore the data that we have stored"
   ]
  },
  {
   "cell_type": "code",
   "execution_count": 68,
   "metadata": {},
   "outputs": [
    {
     "name": "stdout",
     "output_type": "stream",
     "text": [
      "('$27', '2', 'Humble', 'May 2016', 'Welcome to stay in private room with queen bed and detached private bathroom on the second floor. Another private bedroom with sofa bed is available for additional guests. 10$ for an additional guest.\\\\n10min from IAH airport\\\\nAirport pick-up/drop off is available for $10/trip.', 30.0201379199512, -95.29399600425128, '2 Private rooms/bathroom 10min from IAH airport', 'https://www.airbnb.com/rooms/18520444?location=Cleveland%2C%20TX')\n",
      "('$149', '4', 'San Antonio', 'November 2010', 'Stylish, fully remodeled home in upscale NW – Alamo Heights Area. \\\\n\\\\nAmazing location - House conveniently located in quiet street, with beautiful seasoned trees, prestigious neighborhood and very close to the airport, 281, 410 loop and down-town area. \\\\n\\\\nFeaturing an open floor plan, original hardwood floors, 3 bedrooms, 3 FULL bathrooms + an independent garden-TV room which can sleep 2 more\\\\n\\\\nEuropean inspired kitchen and “top of the line” decor. Driveway can park 4 cars.', 29.503067675606104, -98.4476879378504, 'Unique Location! Alamo Heights - Designer Inspired', 'https://www.airbnb.com/rooms/17481455?location=Cibolo%2C%20TX')\n"
     ]
    }
   ],
   "source": [
    "# SQL code as a string\n",
    "sql = \"SELECT * FROM airbnb_texas_rentals LIMIT 2;\"\n",
    "\n",
    "# Execute the SQL code\n",
    "cursor.execute(sql)\n",
    "\n",
    "# Fetch the results\n",
    "rows = cursor.fetchall()\n",
    "\n",
    "# Print the results\n",
    "for row in rows:\n",
    "    print(row)\n",
    "\n",
    "# Close the cursor and connection\n",
    "cursor.close()\n",
    "conn.close()"
   ]
  },
  {
   "cell_type": "markdown",
   "metadata": {},
   "source": [
    "# -----------------------------------------      New Section    --------------------------------------------"
   ]
  },
  {
   "cell_type": "markdown",
   "metadata": {},
   "source": [
    "# Working with MongoDB and establishing connection"
   ]
  },
  {
   "cell_type": "markdown",
   "metadata": {},
   "source": [
    "#### To create a database and collection in MongoDB using Python, we need PyMongo library."
   ]
  },
  {
   "cell_type": "code",
   "execution_count": 69,
   "metadata": {},
   "outputs": [],
   "source": [
    "# Uncomment if you need to install pymongo\n",
    "#!pip install pymongo"
   ]
  },
  {
   "cell_type": "code",
   "execution_count": 70,
   "metadata": {},
   "outputs": [],
   "source": [
    "import pymongo\n",
    "import opendatasets as od\n",
    "import json"
   ]
  },
  {
   "cell_type": "code",
   "execution_count": 71,
   "metadata": {},
   "outputs": [],
   "source": [
    "# Connect to the MongoDB server using the MongoClient() function.\n",
    "client = pymongo.MongoClient(\"mongodb://127.0.0.1:27017/\")\n",
    "# Now let's create a database using the client object.\n",
    "db = client['ZARA_US_fashion_products']\n",
    "\n",
    "# Create collection\n",
    "collection = db['mycollection']\n"
   ]
  },
  {
   "cell_type": "markdown",
   "metadata": {},
   "source": [
    "### Let's download a JSON data from Kaggle and try to insert it to MongoDB"
   ]
  },
  {
   "cell_type": "code",
   "execution_count": 72,
   "metadata": {},
   "outputs": [
    {
     "name": "stdout",
     "output_type": "stream",
     "text": [
      "Skipping, found downloaded files in \".\\zara-us-fashion-products-dataset\" (use force=True to force download)\n"
     ]
    }
   ],
   "source": [
    "# Download \"ZARA US fashion products dataset\"\n",
    "od.download(\"https://www.kaggle.com/datasets/crawlfeeds/zara-us-fashion-products-dataset\")"
   ]
  },
  {
   "cell_type": "code",
   "execution_count": 73,
   "metadata": {},
   "outputs": [],
   "source": [
    "with open(\"zara-us-fashion-products-dataset/zara_us_sample_data.json\", \"r\") as file:\n",
    "    data = json.load(file, strict=False)"
   ]
  },
  {
   "cell_type": "code",
   "execution_count": 74,
   "metadata": {},
   "outputs": [],
   "source": [
    "x = collection.insert_many(data)"
   ]
  },
  {
   "cell_type": "markdown",
   "metadata": {},
   "source": [
    "### Some interesting queries"
   ]
  },
  {
   "cell_type": "code",
   "execution_count": 75,
   "metadata": {},
   "outputs": [
    {
     "name": "stdout",
     "output_type": "stream",
     "text": [
      "{'_id': ObjectId('641e057bd3c089c63b918670'), 'url': 'https://www.zara.com/us/en/satin-effect-corset-bodysuit-p00219805.html', 'language': 'en-US', 'name': 'SATIN EFFECT CORSET BODYSUIT', 'sku': '128666521-966-2', 'mpn': '128666521-966-2', 'brand': 'ZARA', 'description': 'Bodysuit with sweetheart neckline and adjustable spaghetti straps. Bottom snap button closure.', 'price': '29.9', 'currency': 'USD', 'availability': 'InStock', 'condition': 'NewCondition', 'images': 'https://static.zara.net/stdstatic/1.234.0-b.45/images/transparent-background.png~https://static.zara.net/stdstatic/1.234.0-b.45/images/transparent-background.png~https://static.zara.net/stdstatic/1.234.0-b.45/images/transparent-background.png~https://static.zara.net/stdstatic/1.234.0-b.45/images/transparent-background.png~https://static.zara.net/stdstatic/1.234.0-b.45/images/transparent-background.png~https://static.zara.net/stdstatic/1.234.0-b.45/images/transparent-background.png~https://static.zara.net/stdstatic/1.234.0-b.45/images/transparent-background.png', 'color': 'Color Pale pink | 0219/805', 'size_list': 'S/M/L', 'scraped_at': '2021-10-13 01:21:25'}\n"
     ]
    }
   ],
   "source": [
    "x = collection.find_one()\n",
    "print(x)"
   ]
  },
  {
   "cell_type": "code",
   "execution_count": 76,
   "metadata": {},
   "outputs": [
    {
     "name": "stdout",
     "output_type": "stream",
     "text": [
      "{'_id': ObjectId('641e057bd3c089c63b91867b'), 'url': 'https://www.zara.com/us/en/geometric-print-overshirt-p00840383.html', 'language': 'en-US', 'name': 'GEOMETRIC PRINT OVERSHIRT', 'sku': '142882821-427-2', 'mpn': '142882821-427-2', 'brand': 'ZARA', 'description': 'Relaxed fit overshirt with lapel collar and long sleeves. Patch pockets at chest and hip. Washed effect print. Front button closure.', 'price': '69.9', 'currency': 'USD', 'availability': 'InStock', 'condition': 'NewCondition', 'images': 'https://static.zara.net/stdstatic/1.234.0-b.45/images/transparent-background.png~https://static.zara.net/stdstatic/1.234.0-b.45/images/transparent-background.png~https://static.zara.net/stdstatic/1.234.0-b.45/images/transparent-background.png~https://static.zara.net/stdstatic/1.234.0-b.45/images/transparent-background.png~https://static.zara.net/stdstatic/1.234.0-b.45/images/transparent-background.png~https://static.zara.net/stdstatic/1.234.0-b.45/images/transparent-background.png~https://static.zara.net/stdstatic/1.234.0-b.45/images/transparent-background.png~https://static.zara.net/stdstatic/1.234.0-b.45/images/transparent-background.png~https://static.zara.net/stdstatic/1.234.0-b.45/images/transparent-background.png~https://static.zara.net/stdstatic/1.234.0-b.45/images/transparent-background.png~https://static.zara.net/stdstatic/1.234.0-b.45/images/transparent-background.png', 'color': 'Color Mid-blue | 0840/383', 'size_list': 'S/M/L', 'scraped_at': '2021-10-13 01:21:25'}\n",
      "{'_id': ObjectId('641e057bd3c089c63b918690'), 'url': 'https://www.zara.com/us/en/short-denim-overalls-p08614598.html', 'language': 'en-US', 'name': 'SHORT DENIM OVERALLS', 'sku': '118920499-427-6', 'mpn': '118920499-427-6', 'brand': 'ZARA', 'description': 'Straight neck denim overalls with adjustable straps with buckle closure. Side button closure. Front and back pockets.', 'price': '25.9', 'currency': 'USD', 'availability': '', 'condition': 'NewCondition', 'images': 'https://static.zara.net/stdstatic/1.234.0-b.45/images/transparent-background.png~https://static.zara.net/stdstatic/1.234.0-b.45/images/transparent-background.png~https://static.zara.net/stdstatic/1.234.0-b.45/images/transparent-background.png', 'color': 'Color Mid-blue | 8614/598', 'size_list': \"3-6 months (26,8 INCHES)/6-9 months (29,1 INCHES)/9-12 months (31,5 INCHES)/12-18 months (33,9 INCHES)/18-24 months (36,2 INCHES)/2-3 years (38,6 INCHES)/2-3 years (38,6 INCHES)/ -/ /We'll let you know when the item is back in stock/3-4 years (40,9 INCHES)/4-5 years (43,3 INCHES)\", 'scraped_at': '2021-10-13 01:21:27'}\n"
     ]
    }
   ],
   "source": [
    "# To query the second word of the \"color\" field wich contains Mid-blue\n",
    "# And limit the result to 2\n",
    "\n",
    "myquery = {\"color\": {\"$regex\": \"\\sMid-blue\\s\"}}\n",
    "\n",
    "mydoc = collection.find(myquery).limit(2)\n",
    "\n",
    "for x in mydoc:\n",
    "    print(x)"
   ]
  },
  {
   "cell_type": "code",
   "execution_count": null,
   "metadata": {},
   "outputs": [],
   "source": []
  },
  {
   "cell_type": "markdown",
   "metadata": {},
   "source": [
    "## **Data collection with API and storing it in MongoDB**\n"
   ]
  },
  {
   "cell_type": "code",
   "execution_count": 77,
   "metadata": {},
   "outputs": [],
   "source": [
    "import requests\n",
    "import pandas as pd\n",
    "import pymongo\n",
    "from pymongo import MongoClient"
   ]
  },
  {
   "cell_type": "code",
   "execution_count": 78,
   "metadata": {},
   "outputs": [],
   "source": [
    "# Connect to the MongoDB server using the MongoClient() function.\n",
    "client = pymongo.MongoClient(\"mongodb://127.0.0.1:27017/\")\n",
    "# Now let's create a 'Games' database using the client object.\n",
    "db = client['Games']\n",
    "# Create a new collection named \"gameReviews\"\n",
    "reviews_collection = db[\"gameReviews\"]\n",
    "\n",
    "games_base = \"http://www.gamespot.com/api/reviews/?api_key=8d7b808247f3bd6e8809ce1fcf29d7bbf943cfbe&format=json\"\n",
    "headers = {\n",
    "    \"user_agent\": \"Shafinikzada API Access\"\n",
    "}"
   ]
  },
  {
   "cell_type": "code",
   "execution_count": 79,
   "metadata": {},
   "outputs": [],
   "source": [
    "# Now send a GET request to the GameSpot API and retrieve the review data\n",
    "response = requests.get(games_base, headers=headers)\n",
    "# Parse the JSON data returned from an API request into a Python dictionary\n",
    "data = response.json()\n",
    "\n",
    "# Iterate through the review data and insert it into the \"gameReviews\" collection\n",
    "for review in data[\"results\"]:\n",
    "    review_data = {\n",
    "        \"game_title\": review[\"game\"][\"name\"],\n",
    "        \"review_text\": review[\"body\"],\n",
    "        \"rating\": review[\"score\"]\n",
    "    }\n",
    "    reviews_collection.insert_one(review_data)"
   ]
  },
  {
   "cell_type": "code",
   "execution_count": null,
   "metadata": {},
   "outputs": [],
   "source": []
  }
 ],
 "metadata": {
  "colab": {
   "provenance": []
  },
  "kernelspec": {
   "display_name": "Python 3",
   "language": "python",
   "name": "python3"
  },
  "language_info": {
   "codemirror_mode": {
    "name": "ipython",
    "version": 3
   },
   "file_extension": ".py",
   "mimetype": "text/x-python",
   "name": "python",
   "nbconvert_exporter": "python",
   "pygments_lexer": "ipython3",
   "version": "3.8.5"
  },
  "varInspector": {
   "cols": {
    "lenName": 16,
    "lenType": 16,
    "lenVar": 40
   },
   "kernels_config": {
    "python": {
     "delete_cmd_postfix": "",
     "delete_cmd_prefix": "del ",
     "library": "var_list.py",
     "varRefreshCmd": "print(var_dic_list())"
    },
    "r": {
     "delete_cmd_postfix": ") ",
     "delete_cmd_prefix": "rm(",
     "library": "var_list.r",
     "varRefreshCmd": "cat(var_dic_list()) "
    }
   },
   "types_to_exclude": [
    "module",
    "function",
    "builtin_function_or_method",
    "instance",
    "_Feature"
   ],
   "window_display": false
  }
 },
 "nbformat": 4,
 "nbformat_minor": 1
}
