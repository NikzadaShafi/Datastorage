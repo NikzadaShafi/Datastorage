{
 "cells": [
  {
   "cell_type": "markdown",
   "metadata": {},
   "source": [
    "# Using Kaggle API to Download the data"
   ]
  },
  {
   "cell_type": "code",
   "execution_count": 2,
   "metadata": {},
   "outputs": [],
   "source": [
    "# Link to GitHub\n"
   ]
  },
  {
   "cell_type": "code",
   "execution_count": 1,
   "metadata": {
    "id": "lshKDQuLmIUl"
   },
   "outputs": [],
   "source": [
    "import pandas as pd\n",
    "import opendatasets as od\n",
    "import psycopg2"
   ]
  },
  {
   "cell_type": "code",
   "execution_count": 2,
   "metadata": {},
   "outputs": [
    {
     "name": "stdout",
     "output_type": "stream",
     "text": [
      "Skipping, found downloaded files in \".\\airbnb-property-data-from-texas\" (use force=True to force download)\n"
     ]
    }
   ],
   "source": [
    "# Airbnb-property-data-from-texas\n",
    "od.download(\"https://www.kaggle.com/datasets/PromptCloudHQ/airbnb-property-data-from-texas\")"
   ]
  },
  {
   "cell_type": "code",
   "execution_count": 3,
   "metadata": {
    "colab": {
     "base_uri": "https://localhost:8080/"
    },
    "id": "c3q-EH2jmODe",
    "outputId": "d1ddcd5c-3c6d-4eed-97a4-a815e84ec8f1"
   },
   "outputs": [
    {
     "name": "stdout",
     "output_type": "stream",
     "text": [
      "(18259, 8)\n",
      "average_rate_per_night     object\n",
      "bedrooms_count             object\n",
      "city                       object\n",
      "date_of_listing            object\n",
      "description                object\n",
      "latitude                  float64\n",
      "longitude                 float64\n",
      "title                      object\n",
      "dtype: object\n"
     ]
    }
   ],
   "source": [
    "# The data is in CSV format, read the data using pandas library\n",
    "data = pd.read_csv('airbnb-property-data-from-texas/Airbnb_Texas_Rentals.csv')\n",
    "data = data.drop(data.columns[[0,9]], axis=1)\n",
    "print(data.shape)\n",
    "print(data.dtypes)"
   ]
  },
  {
   "cell_type": "code",
   "execution_count": 4,
   "metadata": {
    "colab": {
     "base_uri": "https://localhost:8080/",
     "height": 1000
    },
    "id": "bvqt6XvkmoGA",
    "outputId": "2a484f44-0f59-46a1-ce7f-3ba17dda5072"
   },
   "outputs": [
    {
     "data": {
      "text/html": [
       "<div>\n",
       "<style scoped>\n",
       "    .dataframe tbody tr th:only-of-type {\n",
       "        vertical-align: middle;\n",
       "    }\n",
       "\n",
       "    .dataframe tbody tr th {\n",
       "        vertical-align: top;\n",
       "    }\n",
       "\n",
       "    .dataframe thead th {\n",
       "        text-align: right;\n",
       "    }\n",
       "</style>\n",
       "<table border=\"1\" class=\"dataframe\">\n",
       "  <thead>\n",
       "    <tr style=\"text-align: right;\">\n",
       "      <th></th>\n",
       "      <th>average_rate_per_night</th>\n",
       "      <th>bedrooms_count</th>\n",
       "      <th>city</th>\n",
       "      <th>date_of_listing</th>\n",
       "      <th>description</th>\n",
       "      <th>latitude</th>\n",
       "      <th>longitude</th>\n",
       "      <th>title</th>\n",
       "    </tr>\n",
       "  </thead>\n",
       "  <tbody>\n",
       "    <tr>\n",
       "      <th>0</th>\n",
       "      <td>$27</td>\n",
       "      <td>2</td>\n",
       "      <td>Humble</td>\n",
       "      <td>May 2016</td>\n",
       "      <td>Welcome to stay in private room with queen bed...</td>\n",
       "      <td>30.020138</td>\n",
       "      <td>-95.293996</td>\n",
       "      <td>2 Private rooms/bathroom 10min from IAH airport</td>\n",
       "    </tr>\n",
       "    <tr>\n",
       "      <th>1</th>\n",
       "      <td>$149</td>\n",
       "      <td>4</td>\n",
       "      <td>San Antonio</td>\n",
       "      <td>November 2010</td>\n",
       "      <td>Stylish, fully remodeled home in upscale NW – ...</td>\n",
       "      <td>29.503068</td>\n",
       "      <td>-98.447688</td>\n",
       "      <td>Unique Location! Alamo Heights - Designer Insp...</td>\n",
       "    </tr>\n",
       "  </tbody>\n",
       "</table>\n",
       "</div>"
      ],
      "text/plain": [
       "  average_rate_per_night bedrooms_count         city date_of_listing  \\\n",
       "0                    $27              2       Humble        May 2016   \n",
       "1                   $149              4  San Antonio   November 2010   \n",
       "\n",
       "                                         description   latitude  longitude  \\\n",
       "0  Welcome to stay in private room with queen bed...  30.020138 -95.293996   \n",
       "1  Stylish, fully remodeled home in upscale NW – ...  29.503068 -98.447688   \n",
       "\n",
       "                                               title  \n",
       "0    2 Private rooms/bathroom 10min from IAH airport  \n",
       "1  Unique Location! Alamo Heights - Designer Insp...  "
      ]
     },
     "execution_count": 4,
     "metadata": {},
     "output_type": "execute_result"
    }
   ],
   "source": [
    "# Visualize rows of the data\n",
    "data.head(2)"
   ]
  },
  {
   "cell_type": "code",
   "execution_count": 5,
   "metadata": {},
   "outputs": [],
   "source": [
    "# create table airbnb_texas_rentals\n",
    "# (\n",
    "#     average_rate_per_night          varchar, \n",
    "#     bedrooms_count                  varchar,\n",
    "#     city                            varchar,\n",
    "#     date_of_listing                 varchar,\n",
    "#     description                     varchar,\n",
    "#     latitude                        float,\n",
    "#     longitude                       float,\n",
    "#     title                           varchar\n",
    "# );\n",
    "        "
   ]
  },
  {
   "cell_type": "code",
   "execution_count": 6,
   "metadata": {},
   "outputs": [
    {
     "data": {
      "text/plain": [
       "average_rate_per_night     object\n",
       "bedrooms_count             object\n",
       "city                       object\n",
       "date_of_listing            object\n",
       "description                object\n",
       "latitude                  float64\n",
       "longitude                 float64\n",
       "title                      object\n",
       "dtype: object"
      ]
     },
     "execution_count": 6,
     "metadata": {},
     "output_type": "execute_result"
    }
   ],
   "source": [
    "# Types of data that we have in our CSV file\n",
    "data.dtypes"
   ]
  },
  {
   "cell_type": "code",
   "execution_count": 7,
   "metadata": {},
   "outputs": [
    {
     "data": {
      "text/plain": [
       "{'object': 'varchar', 'float64': 'float'}"
      ]
     },
     "execution_count": 7,
     "metadata": {},
     "output_type": "execute_result"
    }
   ],
   "source": [
    "# In order to insert the data to PostgreSQL we have to adopt the format\n",
    "replacements = {\n",
    "    'object': 'varchar',\n",
    "    'float64': 'float'\n",
    "}\n",
    "\n",
    "replacements"
   ]
  },
  {
   "cell_type": "code",
   "execution_count": 8,
   "metadata": {},
   "outputs": [
    {
     "data": {
      "text/plain": [
       "'average_rate_per_night varchar, bedrooms_count varchar, city varchar, date_of_listing varchar, description varchar, latitude float, longitude float, title varchar'"
      ]
     },
     "execution_count": 8,
     "metadata": {},
     "output_type": "execute_result"
    }
   ],
   "source": [
    "# Now we created the string format that we need\n",
    "col_str = \", \".join(\"{} {}\".format(n,d) for (n, d) in zip(data.columns, data.dtypes.replace(replacements)))\n",
    "col_str"
   ]
  },
  {
   "cell_type": "markdown",
   "metadata": {},
   "source": [
    "# Python to PostgreSQL connection"
   ]
  },
  {
   "cell_type": "code",
   "execution_count": 9,
   "metadata": {},
   "outputs": [],
   "source": [
    "# Uncomment if you need to install the library\n",
    "#!pip install psycopg2"
   ]
  },
  {
   "cell_type": "code",
   "execution_count": 13,
   "metadata": {},
   "outputs": [
    {
     "name": "stdout",
     "output_type": "stream",
     "text": [
      "sucessfull connection\n"
     ]
    }
   ],
   "source": [
    "# Forming the connection to PostgreSQL\n",
    "conn = psycopg2.connect(\n",
    "    database=\"DataStorage\",\n",
    "    user=\"postgres\",\n",
    "    password=\"341741\",\n",
    "    host=\"localhost\",\n",
    "    port = \"5433\"\n",
    "    )\n",
    "\n",
    "cursor = conn.cursor()\n",
    "print(\"sucessfull connection\")"
   ]
  },
  {
   "cell_type": "code",
   "execution_count": 14,
   "metadata": {},
   "outputs": [],
   "source": [
    "# Delete the table if it already exists\n",
    "cursor.execute(\"drop table if exists airbnb_texas_rentals;\")"
   ]
  },
  {
   "cell_type": "code",
   "execution_count": 15,
   "metadata": {},
   "outputs": [],
   "source": [
    "# Create the table with columns\n",
    "cursor.execute(\"create table airbnb_texas_rentals \\\n",
    "(average_rate_per_night varchar, bedrooms_count varchar, city varchar, date_of_listing varchar, \\\n",
    "description varchar, latitude float, longitude float, title varchar)\")\n",
    "conn.commit()"
   ]
  },
  {
   "cell_type": "code",
   "execution_count": 16,
   "metadata": {},
   "outputs": [],
   "source": [
    "# Create .CSV from dataframe\n",
    "data.to_csv('airbnb_texas_rentals.csv', header=data.columns, index=False, encoding='utf-8')\n",
    "my_file = open('airbnb_texas_rentals.csv', 'r', encoding='utf-8')\n"
   ]
  },
  {
   "cell_type": "code",
   "execution_count": 17,
   "metadata": {},
   "outputs": [
    {
     "name": "stdout",
     "output_type": "stream",
     "text": [
      "file copied to db\n"
     ]
    }
   ],
   "source": [
    "# Inserting the file to db\n",
    "SQL_STATEMENT = \"\"\"\n",
    "COPY airbnb_texas_rentals FROM STDIN WITH\n",
    "    CSV\n",
    "    HEADER\n",
    "    DELIMITER AS ','\n",
    "\"\"\"\n",
    "cursor.copy_expert(sql=SQL_STATEMENT, file=my_file)\n",
    "print(\"file copied to db\")"
   ]
  },
  {
   "cell_type": "code",
   "execution_count": 18,
   "metadata": {},
   "outputs": [
    {
     "name": "stdout",
     "output_type": "stream",
     "text": [
      "table airbnb_texas_rentals imported to db\n"
     ]
    }
   ],
   "source": [
    "cursor.execute(\"grant select on table airbnb_texas_rentals to public\")\n",
    "conn.commit()\n",
    "\n",
    "print('table airbnb_texas_rentals imported to db')"
   ]
  },
  {
   "cell_type": "markdown",
   "metadata": {},
   "source": [
    "# Using some SQL query to explore the data that we stored"
   ]
  },
  {
   "cell_type": "code",
   "execution_count": 19,
   "metadata": {},
   "outputs": [
    {
     "name": "stdout",
     "output_type": "stream",
     "text": [
      "('$27', '2', 'Humble', 'May 2016', 'Welcome to stay in private room with queen bed and detached private bathroom on the second floor. Another private bedroom with sofa bed is available for additional guests. 10$ for an additional guest.\\\\n10min from IAH airport\\\\nAirport pick-up/drop off is available for $10/trip.', 30.0201379199512, -95.29399600425128, '2 Private rooms/bathroom 10min from IAH airport')\n",
      "('$149', '4', 'San Antonio', 'November 2010', 'Stylish, fully remodeled home in upscale NW – Alamo Heights Area. \\\\n\\\\nAmazing location - House conveniently located in quiet street, with beautiful seasoned trees, prestigious neighborhood and very close to the airport, 281, 410 loop and down-town area. \\\\n\\\\nFeaturing an open floor plan, original hardwood floors, 3 bedrooms, 3 FULL bathrooms + an independent garden-TV room which can sleep 2 more\\\\n\\\\nEuropean inspired kitchen and “top of the line” decor. Driveway can park 4 cars.', 29.503067675606104, -98.4476879378504, 'Unique Location! Alamo Heights - Designer Inspired')\n",
      "('$59', '1', 'Houston', 'January 2017', \"'River house on island close to the city' \\\\nA well maintained river house off the San Jacinto river with extra room for temporary visitors.\", 29.829352227214898, -95.0815494887563, 'River house near the city')\n",
      "('$60', '1', 'Bryan', 'February 2016', 'Private bedroom in a cute little home situated in the coveted Garden Acres neighborhood in Bryan. The bedroom has its own private access and its own private bathroom.', 30.6373042787676, -96.33784597296308, 'Private Room Close to Campus')\n",
      "('$75', '2', 'Fort Worth', 'February 2017', \"Welcome to our original 1920's home. We recently purchased this 1922 home just a mile outside of downtown Fort Worth and have been happy restoring the original character that the home was built with. You're just a 5 minute drive from all that downtown has to offer and just across the street from the currently being rejuvenated Gateway Park.\", 32.7470973543511, -97.2864343970125, 'The Porch')\n"
     ]
    }
   ],
   "source": [
    "# SQL code as a string\n",
    "sql = \"SELECT * FROM airbnb_texas_rentals LIMIT 5;\"\n",
    "\n",
    "# Execute the SQL code\n",
    "cursor.execute(sql)\n",
    "\n",
    "# Fetch the results\n",
    "rows = cursor.fetchall()\n",
    "\n",
    "# Print the results\n",
    "for row in rows:\n",
    "    print(row)\n",
    "\n",
    "# Close the cursor and connection\n",
    "cursor.close()\n",
    "conn.close()"
   ]
  },
  {
   "cell_type": "code",
   "execution_count": null,
   "metadata": {},
   "outputs": [],
   "source": []
  }
 ],
 "metadata": {
  "colab": {
   "provenance": []
  },
  "kernelspec": {
   "display_name": "Python 3",
   "language": "python",
   "name": "python3"
  },
  "language_info": {
   "codemirror_mode": {
    "name": "ipython",
    "version": 3
   },
   "file_extension": ".py",
   "mimetype": "text/x-python",
   "name": "python",
   "nbconvert_exporter": "python",
   "pygments_lexer": "ipython3",
   "version": "3.8.5"
  },
  "varInspector": {
   "cols": {
    "lenName": 16,
    "lenType": 16,
    "lenVar": 40
   },
   "kernels_config": {
    "python": {
     "delete_cmd_postfix": "",
     "delete_cmd_prefix": "del ",
     "library": "var_list.py",
     "varRefreshCmd": "print(var_dic_list())"
    },
    "r": {
     "delete_cmd_postfix": ") ",
     "delete_cmd_prefix": "rm(",
     "library": "var_list.r",
     "varRefreshCmd": "cat(var_dic_list()) "
    }
   },
   "types_to_exclude": [
    "module",
    "function",
    "builtin_function_or_method",
    "instance",
    "_Feature"
   ],
   "window_display": false
  }
 },
 "nbformat": 4,
 "nbformat_minor": 1
}
